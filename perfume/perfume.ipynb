{
 "cells": [
  {
   "cell_type": "code",
   "execution_count": 1,
   "id": "9de6d078",
   "metadata": {},
   "outputs": [],
   "source": [
    "import numpy as np\n",
    "import pandas as pd\n",
    "from sklearn import linear_model"
   ]
  },
  {
   "cell_type": "markdown",
   "id": "aeaa601d",
   "metadata": {},
   "source": [
    "## Predict Scent Quality Score \n",
    "Predicting the Scent Quality Score for any new perfume based on the quantity of scent chemicals used.\n",
    "\n",
    "To predict the Scent Quality Score, we will use linear regression."
   ]
  },
  {
   "cell_type": "code",
   "execution_count": 30,
   "id": "0ca90c95",
   "metadata": {},
   "outputs": [],
   "source": [
    "df_score = pd.read_csv(\"perfume-score.csv\")\n",
    "df_preference = pd.read_csv(\"perfume-preference.csv\")"
   ]
  },
  {
   "cell_type": "code",
   "execution_count": 23,
   "id": "79e2eac4",
   "metadata": {},
   "outputs": [
    {
     "data": {
      "text/html": [
       "<div>\n",
       "<style scoped>\n",
       "    .dataframe tbody tr th:only-of-type {\n",
       "        vertical-align: middle;\n",
       "    }\n",
       "\n",
       "    .dataframe tbody tr th {\n",
       "        vertical-align: top;\n",
       "    }\n",
       "\n",
       "    .dataframe thead th {\n",
       "        text-align: right;\n",
       "    }\n",
       "</style>\n",
       "<table border=\"1\" class=\"dataframe\">\n",
       "  <thead>\n",
       "    <tr style=\"text-align: right;\">\n",
       "      <th></th>\n",
       "      <th>Narcissus</th>\n",
       "      <th>Agrumen</th>\n",
       "      <th>Oud</th>\n",
       "      <th>Jasmine</th>\n",
       "      <th>Amber</th>\n",
       "      <th>Neroli</th>\n",
       "      <th>Indole</th>\n",
       "      <th>Vanilla</th>\n",
       "      <th>Frankincense</th>\n",
       "      <th>Bergamot</th>\n",
       "      <th>Galbanum</th>\n",
       "      <th>Magnolia</th>\n",
       "      <th>Sandalwood</th>\n",
       "      <th>Cashmeran</th>\n",
       "      <th>Citron</th>\n",
       "      <th>Opopanax</th>\n",
       "      <th>Aliphatic Aldehydes</th>\n",
       "      <th>Vetiver</th>\n",
       "      <th>Scent Quality Score</th>\n",
       "    </tr>\n",
       "  </thead>\n",
       "  <tbody>\n",
       "    <tr>\n",
       "      <th>0</th>\n",
       "      <td>489.766</td>\n",
       "      <td>343.510</td>\n",
       "      <td>638.519</td>\n",
       "      <td>315.377</td>\n",
       "      <td>966.417</td>\n",
       "      <td>913.256</td>\n",
       "      <td>1015.036</td>\n",
       "      <td>479.027</td>\n",
       "      <td>485.797</td>\n",
       "      <td>2918.050062</td>\n",
       "      <td>108.538</td>\n",
       "      <td>727.438</td>\n",
       "      <td>936.842</td>\n",
       "      <td>4801.306119</td>\n",
       "      <td>261.952</td>\n",
       "      <td>148.593</td>\n",
       "      <td>783.264</td>\n",
       "      <td>809.541</td>\n",
       "      <td>1.302700e+07</td>\n",
       "    </tr>\n",
       "    <tr>\n",
       "      <th>1</th>\n",
       "      <td>472.841</td>\n",
       "      <td>218.288</td>\n",
       "      <td>642.332</td>\n",
       "      <td>210.582</td>\n",
       "      <td>995.068</td>\n",
       "      <td>989.447</td>\n",
       "      <td>958.614</td>\n",
       "      <td>507.113</td>\n",
       "      <td>242.015</td>\n",
       "      <td>2119.074840</td>\n",
       "      <td>246.654</td>\n",
       "      <td>755.477</td>\n",
       "      <td>840.936</td>\n",
       "      <td>4896.315590</td>\n",
       "      <td>149.498</td>\n",
       "      <td>44.490</td>\n",
       "      <td>906.204</td>\n",
       "      <td>815.512</td>\n",
       "      <td>1.159073e+07</td>\n",
       "    </tr>\n",
       "    <tr>\n",
       "      <th>2</th>\n",
       "      <td>472.620</td>\n",
       "      <td>323.480</td>\n",
       "      <td>696.770</td>\n",
       "      <td>288.379</td>\n",
       "      <td>1006.334</td>\n",
       "      <td>875.163</td>\n",
       "      <td>987.398</td>\n",
       "      <td>611.463</td>\n",
       "      <td>410.451</td>\n",
       "      <td>2679.139347</td>\n",
       "      <td>281.022</td>\n",
       "      <td>729.155</td>\n",
       "      <td>825.386</td>\n",
       "      <td>5350.521973</td>\n",
       "      <td>177.980</td>\n",
       "      <td>141.612</td>\n",
       "      <td>705.294</td>\n",
       "      <td>794.394</td>\n",
       "      <td>1.367693e+07</td>\n",
       "    </tr>\n",
       "    <tr>\n",
       "      <th>3</th>\n",
       "      <td>503.155</td>\n",
       "      <td>397.632</td>\n",
       "      <td>644.533</td>\n",
       "      <td>151.414</td>\n",
       "      <td>960.097</td>\n",
       "      <td>905.462</td>\n",
       "      <td>1031.227</td>\n",
       "      <td>469.357</td>\n",
       "      <td>388.405</td>\n",
       "      <td>1784.035393</td>\n",
       "      <td>280.953</td>\n",
       "      <td>711.906</td>\n",
       "      <td>786.198</td>\n",
       "      <td>5029.939322</td>\n",
       "      <td>29.515</td>\n",
       "      <td>149.231</td>\n",
       "      <td>678.681</td>\n",
       "      <td>837.614</td>\n",
       "      <td>7.997427e+06</td>\n",
       "    </tr>\n",
       "    <tr>\n",
       "      <th>4</th>\n",
       "      <td>499.780</td>\n",
       "      <td>344.096</td>\n",
       "      <td>643.764</td>\n",
       "      <td>353.518</td>\n",
       "      <td>1033.988</td>\n",
       "      <td>978.976</td>\n",
       "      <td>871.312</td>\n",
       "      <td>439.266</td>\n",
       "      <td>311.002</td>\n",
       "      <td>3236.214279</td>\n",
       "      <td>272.058</td>\n",
       "      <td>737.003</td>\n",
       "      <td>898.238</td>\n",
       "      <td>4988.788504</td>\n",
       "      <td>138.884</td>\n",
       "      <td>122.238</td>\n",
       "      <td>622.090</td>\n",
       "      <td>824.174</td>\n",
       "      <td>1.113290e+07</td>\n",
       "    </tr>\n",
       "  </tbody>\n",
       "</table>\n",
       "</div>"
      ],
      "text/plain": [
       "   Narcissus  Agrumen      Oud  Jasmine     Amber   Neroli    Indole  Vanilla  \\\n",
       "0    489.766  343.510  638.519  315.377   966.417  913.256  1015.036  479.027   \n",
       "1    472.841  218.288  642.332  210.582   995.068  989.447   958.614  507.113   \n",
       "2    472.620  323.480  696.770  288.379  1006.334  875.163   987.398  611.463   \n",
       "3    503.155  397.632  644.533  151.414   960.097  905.462  1031.227  469.357   \n",
       "4    499.780  344.096  643.764  353.518  1033.988  978.976   871.312  439.266   \n",
       "\n",
       "   Frankincense     Bergamot  Galbanum  Magnolia  Sandalwood    Cashmeran  \\\n",
       "0       485.797  2918.050062   108.538   727.438     936.842  4801.306119   \n",
       "1       242.015  2119.074840   246.654   755.477     840.936  4896.315590   \n",
       "2       410.451  2679.139347   281.022   729.155     825.386  5350.521973   \n",
       "3       388.405  1784.035393   280.953   711.906     786.198  5029.939322   \n",
       "4       311.002  3236.214279   272.058   737.003     898.238  4988.788504   \n",
       "\n",
       "    Citron  Opopanax  Aliphatic Aldehydes  Vetiver  Scent Quality Score  \n",
       "0  261.952   148.593              783.264  809.541         1.302700e+07  \n",
       "1  149.498    44.490              906.204  815.512         1.159073e+07  \n",
       "2  177.980   141.612              705.294  794.394         1.367693e+07  \n",
       "3   29.515   149.231              678.681  837.614         7.997427e+06  \n",
       "4  138.884   122.238              622.090  824.174         1.113290e+07  "
      ]
     },
     "execution_count": 23,
     "metadata": {},
     "output_type": "execute_result"
    }
   ],
   "source": [
    "df_score.head()"
   ]
  },
  {
   "cell_type": "code",
   "execution_count": 24,
   "id": "a4b7ce62",
   "metadata": {},
   "outputs": [
    {
     "name": "stdout",
     "output_type": "stream",
     "text": [
      "['Narcissus', 'Agrumen', 'Oud', 'Jasmine', 'Amber', 'Neroli', 'Indole', 'Vanilla', 'Frankincense', 'Bergamot', 'Galbanum', 'Magnolia', 'Sandalwood', 'Cashmeran', 'Citron', 'Opopanax', 'Aliphatic Aldehydes', 'Vetiver', 'Scent Quality Score']\n"
     ]
    }
   ],
   "source": [
    "column_names = list(df_score.columns)\n",
    "print(column_names)"
   ]
  },
  {
   "cell_type": "markdown",
   "id": "28998f22",
   "metadata": {},
   "source": [
    "Now, use linear regression. The x are the chemicals and y is the Scent Quality Score"
   ]
  },
  {
   "cell_type": "code",
   "execution_count": 25,
   "id": "fca50943",
   "metadata": {},
   "outputs": [
    {
     "data": {
      "text/plain": [
       "LinearRegression()"
      ]
     },
     "execution_count": 25,
     "metadata": {},
     "output_type": "execute_result"
    }
   ],
   "source": [
    "x = df_score[['Narcissus', 'Agrumen', 'Oud', 'Jasmine', 'Amber', 'Neroli', 'Indole',\n",
    "       'Vanilla', 'Frankincense', 'Bergamot', 'Galbanum', 'Magnolia',\n",
    "       'Sandalwood', 'Cashmeran', 'Citron', 'Opopanax', 'Aliphatic Aldehydes',\n",
    "       'Vetiver']]\n",
    "y = df_score['Scent Quality Score']\n",
    "regr = linear_model.LinearRegression()\n",
    "regr.fit(x, y)"
   ]
  },
  {
   "cell_type": "markdown",
   "id": "f1636f35",
   "metadata": {},
   "source": [
    "Now, we could use \n",
    "```\n",
    "regr.predict()\n",
    "```\n",
    "to predict the Scent Quality Score.\n",
    "\n",
    "The following is one example."
   ]
  },
  {
   "cell_type": "code",
   "execution_count": 26,
   "id": "4aa0cba1",
   "metadata": {},
   "outputs": [
    {
     "name": "stderr",
     "output_type": "stream",
     "text": [
      "c:\\users\\shaozhu\\appdata\\local\\programs\\python\\python38\\lib\\site-packages\\sklearn\\base.py:450: UserWarning: X does not have valid feature names, but LinearRegression was fitted with feature names\n",
      "  warnings.warn(\n"
     ]
    },
    {
     "data": {
      "text/plain": [
       "array([1.24290148e+08])"
      ]
     },
     "execution_count": 26,
     "metadata": {},
     "output_type": "execute_result"
    }
   ],
   "source": [
    "regr.predict([[1353,1252,4066,3838,2144,4404,32082,3866,2505,3972,4485,6441,4106,1722,4287,4820,4140,1463]])"
   ]
  },
  {
   "cell_type": "markdown",
   "id": "5cd79e93",
   "metadata": {},
   "source": [
    "## Understanding if any scent chemicals are strongly related\n",
    "We will check the coeffients to understand the related chemicals.\n",
    "\n",
    "All chemicals with positive coefficient will have similar positive response\n",
    "All chemicals with negative coefficient will have similar negative response"
   ]
  },
  {
   "cell_type": "code",
   "execution_count": 27,
   "id": "869a11ff",
   "metadata": {},
   "outputs": [
    {
     "data": {
      "text/plain": [
       "array([ 3.94491376e+03,  2.08173923e+03,  1.30765741e+02, -1.82721593e+02,\n",
       "        7.76550047e+02,  1.59809609e+00,  3.58225567e+01,  1.54745736e+04,\n",
       "        7.93763594e+01,  4.01216462e+03,  6.73005407e+02,  2.38734209e+02,\n",
       "       -1.35336339e+01, -1.01948466e+01,  1.44698553e+02,  2.21238119e+01,\n",
       "        1.24653485e+04,  2.56996386e+02])"
      ]
     },
     "execution_count": 27,
     "metadata": {},
     "output_type": "execute_result"
    }
   ],
   "source": [
    "regr.coef_"
   ]
  },
  {
   "cell_type": "code",
   "execution_count": 28,
   "id": "c9c7341f",
   "metadata": {},
   "outputs": [
    {
     "name": "stdout",
     "output_type": "stream",
     "text": [
      "['Narcissus', 'Agrumen', 'Oud', 'Amber', 'Neroli', 'Indole', 'Vanilla', 'Frankincense', 'Bergamot', 'Galbanum', 'Magnolia', 'Citron', 'Opopanax', 'Aliphatic Aldehydes', 'Vetiver']\n"
     ]
    }
   ],
   "source": [
    "positive_coef_columns = [column_names[i] for i in range(len(regr.coef_)) if regr.coef_[i] > 0]\n",
    "print(positive_coef_columns)"
   ]
  },
  {
   "cell_type": "code",
   "execution_count": 29,
   "id": "31a46a5f",
   "metadata": {},
   "outputs": [
    {
     "name": "stdout",
     "output_type": "stream",
     "text": [
      "['Jasmine', 'Sandalwood', 'Cashmeran']\n"
     ]
    }
   ],
   "source": [
    "negative_coef_columns = [column_names[i] for i in range(len(regr.coef_)) if regr.coef_[i] < 0]\n",
    "print(negative_coef_columns)"
   ]
  },
  {
   "cell_type": "markdown",
   "id": "27c654c3",
   "metadata": {},
   "source": [
    "## Understanding if there are specific ‘types’ of customer who prefer specific kinds of mixture\n",
    "\n",
    "We will use the linear regression model to predict the Scent Quality Score for each custer's preference."
   ]
  },
  {
   "cell_type": "code",
   "execution_count": 31,
   "id": "19c92937",
   "metadata": {},
   "outputs": [
    {
     "data": {
      "text/html": [
       "<div>\n",
       "<style scoped>\n",
       "    .dataframe tbody tr th:only-of-type {\n",
       "        vertical-align: middle;\n",
       "    }\n",
       "\n",
       "    .dataframe tbody tr th {\n",
       "        vertical-align: top;\n",
       "    }\n",
       "\n",
       "    .dataframe thead th {\n",
       "        text-align: right;\n",
       "    }\n",
       "</style>\n",
       "<table border=\"1\" class=\"dataframe\">\n",
       "  <thead>\n",
       "    <tr style=\"text-align: right;\">\n",
       "      <th></th>\n",
       "      <th>Customer No.</th>\n",
       "      <th>Narcissus</th>\n",
       "      <th>Agrumen</th>\n",
       "      <th>Oud</th>\n",
       "      <th>Jasmine</th>\n",
       "      <th>Amber</th>\n",
       "      <th>Neroli</th>\n",
       "      <th>Indole</th>\n",
       "      <th>Vanilla</th>\n",
       "      <th>Frankincense</th>\n",
       "      <th>Bergamot</th>\n",
       "      <th>Galbanum</th>\n",
       "      <th>Magnolia</th>\n",
       "      <th>Sandalwood</th>\n",
       "      <th>Cashmeran</th>\n",
       "      <th>Citron</th>\n",
       "      <th>Opopanax</th>\n",
       "      <th>Aliphatic Aldehydes</th>\n",
       "      <th>Vetiver</th>\n",
       "    </tr>\n",
       "  </thead>\n",
       "  <tbody>\n",
       "    <tr>\n",
       "      <th>0</th>\n",
       "      <td>C_0000001</td>\n",
       "      <td>1353.0</td>\n",
       "      <td>1252.0</td>\n",
       "      <td>4066.0</td>\n",
       "      <td>3838.0</td>\n",
       "      <td>2144.0</td>\n",
       "      <td>4404.0</td>\n",
       "      <td>32082</td>\n",
       "      <td>3866.0</td>\n",
       "      <td>2505.0</td>\n",
       "      <td>3972.0</td>\n",
       "      <td>4485.0</td>\n",
       "      <td>6441</td>\n",
       "      <td>4106.0</td>\n",
       "      <td>1722.0</td>\n",
       "      <td>4287.0</td>\n",
       "      <td>4820.0</td>\n",
       "      <td>4140.0</td>\n",
       "      <td>1463.0</td>\n",
       "    </tr>\n",
       "    <tr>\n",
       "      <th>1</th>\n",
       "      <td>C_0000002</td>\n",
       "      <td>1089.0</td>\n",
       "      <td>2152.0</td>\n",
       "      <td>4045.0</td>\n",
       "      <td>3710.0</td>\n",
       "      <td>2235.0</td>\n",
       "      <td>4352.0</td>\n",
       "      <td>30398</td>\n",
       "      <td>4769.0</td>\n",
       "      <td>2995.0</td>\n",
       "      <td>4720.0</td>\n",
       "      <td>4532.0</td>\n",
       "      <td>10931</td>\n",
       "      <td>3794.0</td>\n",
       "      <td>1638.0</td>\n",
       "      <td>4648.0</td>\n",
       "      <td>4472.0</td>\n",
       "      <td>4184.0</td>\n",
       "      <td>1071.0</td>\n",
       "    </tr>\n",
       "    <tr>\n",
       "      <th>2</th>\n",
       "      <td>C_0000003</td>\n",
       "      <td>4177.0</td>\n",
       "      <td>3592.0</td>\n",
       "      <td>3596.0</td>\n",
       "      <td>1745.0</td>\n",
       "      <td>3234.0</td>\n",
       "      <td>2116.0</td>\n",
       "      <td>21678</td>\n",
       "      <td>4864.0</td>\n",
       "      <td>3178.0</td>\n",
       "      <td>3381.0</td>\n",
       "      <td>1376.0</td>\n",
       "      <td>18153</td>\n",
       "      <td>2502.0</td>\n",
       "      <td>1733.0</td>\n",
       "      <td>1747.0</td>\n",
       "      <td>2728.0</td>\n",
       "      <td>4580.0</td>\n",
       "      <td>4742.0</td>\n",
       "    </tr>\n",
       "    <tr>\n",
       "      <th>3</th>\n",
       "      <td>C_0000004</td>\n",
       "      <td>4899.0</td>\n",
       "      <td>3738.0</td>\n",
       "      <td>2454.0</td>\n",
       "      <td>3976.0</td>\n",
       "      <td>4945.0</td>\n",
       "      <td>3853.0</td>\n",
       "      <td>17963</td>\n",
       "      <td>3040.0</td>\n",
       "      <td>2943.0</td>\n",
       "      <td>2870.0</td>\n",
       "      <td>4016.0</td>\n",
       "      <td>18819</td>\n",
       "      <td>1990.0</td>\n",
       "      <td>5118.0</td>\n",
       "      <td>2391.0</td>\n",
       "      <td>2012.0</td>\n",
       "      <td>3470.0</td>\n",
       "      <td>3057.0</td>\n",
       "    </tr>\n",
       "    <tr>\n",
       "      <th>4</th>\n",
       "      <td>C_0000005</td>\n",
       "      <td>4822.0</td>\n",
       "      <td>4030.0</td>\n",
       "      <td>3447.0</td>\n",
       "      <td>4225.0</td>\n",
       "      <td>4078.0</td>\n",
       "      <td>3772.0</td>\n",
       "      <td>23988</td>\n",
       "      <td>3389.0</td>\n",
       "      <td>2415.0</td>\n",
       "      <td>2695.0</td>\n",
       "      <td>3887.0</td>\n",
       "      <td>20367</td>\n",
       "      <td>2118.0</td>\n",
       "      <td>4530.0</td>\n",
       "      <td>2427.0</td>\n",
       "      <td>3205.0</td>\n",
       "      <td>4319.0</td>\n",
       "      <td>2289.0</td>\n",
       "    </tr>\n",
       "  </tbody>\n",
       "</table>\n",
       "</div>"
      ],
      "text/plain": [
       "  Customer No.  Narcissus  Agrumen     Oud  Jasmine   Amber  Neroli Indole  \\\n",
       "0    C_0000001     1353.0   1252.0  4066.0   3838.0  2144.0  4404.0  32082   \n",
       "1    C_0000002     1089.0   2152.0  4045.0   3710.0  2235.0  4352.0  30398   \n",
       "2    C_0000003     4177.0   3592.0  3596.0   1745.0  3234.0  2116.0  21678   \n",
       "3    C_0000004     4899.0   3738.0  2454.0   3976.0  4945.0  3853.0  17963   \n",
       "4    C_0000005     4822.0   4030.0  3447.0   4225.0  4078.0  3772.0  23988   \n",
       "\n",
       "   Vanilla  Frankincense  Bergamot  Galbanum Magnolia  Sandalwood  Cashmeran  \\\n",
       "0   3866.0        2505.0    3972.0    4485.0     6441      4106.0     1722.0   \n",
       "1   4769.0        2995.0    4720.0    4532.0    10931      3794.0     1638.0   \n",
       "2   4864.0        3178.0    3381.0    1376.0    18153      2502.0     1733.0   \n",
       "3   3040.0        2943.0    2870.0    4016.0    18819      1990.0     5118.0   \n",
       "4   3389.0        2415.0    2695.0    3887.0    20367      2118.0     4530.0   \n",
       "\n",
       "   Citron  Opopanax  Aliphatic Aldehydes  Vetiver  \n",
       "0  4287.0    4820.0               4140.0   1463.0  \n",
       "1  4648.0    4472.0               4184.0   1071.0  \n",
       "2  1747.0    2728.0               4580.0   4742.0  \n",
       "3  2391.0    2012.0               3470.0   3057.0  \n",
       "4  2427.0    3205.0               4319.0   2289.0  "
      ]
     },
     "execution_count": 31,
     "metadata": {},
     "output_type": "execute_result"
    }
   ],
   "source": [
    "df_preference.head()"
   ]
  },
  {
   "cell_type": "code",
   "execution_count": null,
   "id": "6dc25127",
   "metadata": {},
   "outputs": [],
   "source": []
  }
 ],
 "metadata": {
  "kernelspec": {
   "display_name": "Python 3 (ipykernel)",
   "language": "python",
   "name": "python3"
  },
  "language_info": {
   "codemirror_mode": {
    "name": "ipython",
    "version": 3
   },
   "file_extension": ".py",
   "mimetype": "text/x-python",
   "name": "python",
   "nbconvert_exporter": "python",
   "pygments_lexer": "ipython3",
   "version": "3.8.10"
  }
 },
 "nbformat": 4,
 "nbformat_minor": 5
}
